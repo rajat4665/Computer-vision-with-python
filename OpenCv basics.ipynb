{
 "cells": [
  {
   "cell_type": "markdown",
   "metadata": {},
   "source": [
    "## Basic operations with OpenCv"
   ]
  },
  {
   "cell_type": "code",
   "execution_count": null,
   "metadata": {},
   "outputs": [],
   "source": [
    "# import opnecv if you don't have it , just install it\n",
    "import cv2"
   ]
  },
  {
   "cell_type": "code",
   "execution_count": null,
   "metadata": {},
   "outputs": [],
   "source": [
    "# here cv2.imread is used to read this image.\n",
    "img = cv2.imread('alexandru-zdrobau-98438-unsplash.jpg')"
   ]
  },
  {
   "cell_type": "code",
   "execution_count": null,
   "metadata": {},
   "outputs": [],
   "source": [
    "img.shape\n",
    "# shape format (6016 = no. of Rows, 4000 = no. of colums, 3 = no. of channes (R,G,B))"
   ]
  },
  {
   "cell_type": "markdown",
   "metadata": {},
   "source": [
    "## Convert Image to gray scale there are two method "
   ]
  },
  {
   "cell_type": "markdown",
   "metadata": {},
   "source": [
    "### method 1"
   ]
  },
  {
   "cell_type": "code",
   "execution_count": null,
   "metadata": {},
   "outputs": [],
   "source": [
    "# this is commonly used method\n",
    "img2 = cv2.cvtColor(img,cv2.COLOR_BGR2GRAY)"
   ]
  },
  {
   "cell_type": "code",
   "execution_count": null,
   "metadata": {},
   "outputs": [],
   "source": [
    "img2.shape"
   ]
  },
  {
   "cell_type": "markdown",
   "metadata": {},
   "source": [
    "### method 2"
   ]
  },
  {
   "cell_type": "code",
   "execution_count": 6,
   "metadata": {},
   "outputs": [],
   "source": [
    "img2 = cv2.imread('alexandru-zdrobau-98438-unsplash.jpg',0)"
   ]
  },
  {
   "cell_type": "code",
   "execution_count": 7,
   "metadata": {},
   "outputs": [],
   "source": [
    "img2.shape"
   ]
  },
  {
   "cell_type": "markdown",
   "metadata": {},
   "source": [
    "## Function to display image"
   ]
  },
  {
   "cell_type": "code",
   "execution_count": 8,
   "metadata": {},
   "outputs": [],
   "source": [
    "def displayImage(name, src):\n",
    "    cv2.imshow(name, src)\n",
    "    cv2.waitKey(0)\n",
    "    cv2.destroyAllWindows()"
   ]
  },
  {
   "cell_type": "code",
   "execution_count": 47,
   "metadata": {},
   "outputs": [],
   "source": [
    "displayImage(\"grayimage\", img2)\n",
    "#press esc for clossing this window"
   ]
  },
  {
   "cell_type": "code",
   "execution_count": 10,
   "metadata": {},
   "outputs": [],
   "source": [
    "## now we see that image size is too big we need to resize it."
   ]
  },
  {
   "cell_type": "markdown",
   "metadata": {},
   "source": [
    "## resize image in opencv"
   ]
  },
  {
   "cell_type": "code",
   "execution_count": 11,
   "metadata": {},
   "outputs": [],
   "source": [
    "resized_img = cv2.resize(img2,(600,600))\n",
    "## cv2.resize is use to resize the image \n",
    "## Syntax format cv2.resize(SrcImage,(height,width))"
   ]
  },
  {
   "cell_type": "code",
   "execution_count": 12,
   "metadata": {},
   "outputs": [
    {
     "data": {
      "text/plain": [
       "(600, 600)"
      ]
     },
     "execution_count": 12,
     "metadata": {},
     "output_type": "execute_result"
    }
   ],
   "source": [
    "# chech shape of resized image\n",
    "resized_img.shape\n",
    "# Now you can see shape of resized image is 600*600 "
   ]
  },
  {
   "cell_type": "code",
   "execution_count": 48,
   "metadata": {},
   "outputs": [],
   "source": [
    "# now call the displayImage to display image \n",
    "displayImage(\"resized\",resized_img)"
   ]
  },
  {
   "cell_type": "code",
   "execution_count": 14,
   "metadata": {},
   "outputs": [
    {
     "data": {
      "text/plain": [
       "array([[197, 196, 194, 193, 191, 191, 188, 187, 187, 185],\n",
       "       [197, 195, 195, 194, 191, 190, 189, 187, 186, 186],\n",
       "       [198, 198, 196, 195, 192, 192, 189, 189, 188, 186],\n",
       "       [198, 198, 198, 195, 193, 192, 191, 190, 189, 188],\n",
       "       [199, 199, 198, 197, 194, 194, 192, 191, 190, 188],\n",
       "       [201, 199, 198, 198, 196, 195, 194, 193, 191, 190],\n",
       "       [202, 201, 200, 199, 198, 197, 194, 194, 193, 190],\n",
       "       [202, 202, 201, 199, 199, 198, 196, 195, 197, 193],\n",
       "       [203, 202, 201, 201, 200, 200, 198, 198, 198, 196],\n",
       "       [204, 203, 203, 202, 200, 199, 200, 199, 198, 198]], dtype=uint8)"
      ]
     },
     "execution_count": 14,
     "metadata": {},
     "output_type": "execute_result"
    }
   ],
   "source": [
    "# Computer treat image as an array we can see it by indexation method\n",
    "resized_img[:10,:10]\n",
    "# here these number in the matrix are pixels color value it ranges between 0 to 255\n",
    "# here [frist :10 means 0 to 10 rows ] and second [frist :10 means 0 to 10 columns]\n",
    "# we can select even a pixel single value for give exact row & colounm value like resized_image[0,0] = 197\n"
   ]
  },
  {
   "cell_type": "markdown",
   "metadata": {},
   "source": [
    "## now we need to save this gray image "
   ]
  },
  {
   "cell_type": "code",
   "execution_count": 15,
   "metadata": {},
   "outputs": [
    {
     "data": {
      "text/plain": [
       "True"
      ]
     },
     "execution_count": 15,
     "metadata": {},
     "output_type": "execute_result"
    }
   ],
   "source": [
    "# cv2.imwrite operation is use to save files, \n",
    "# here first parameter is name of image whatever you want\n",
    "# sencod parameter is image that you want to save\n",
    "cv2.imwrite('gray_image.jpg', resized_img)\n",
    "# if it give output true thats mean you image saved successfully"
   ]
  },
  {
   "cell_type": "code",
   "execution_count": 16,
   "metadata": {},
   "outputs": [],
   "source": [
    "gray_image = cv2.imread(\"gray_image.jpg\")"
   ]
  },
  {
   "cell_type": "code",
   "execution_count": 53,
   "metadata": {},
   "outputs": [],
   "source": [
    "# function for resizing the image\n",
    "def imageResize(img,height,width):\n",
    "    return cv2.resize(img,(height,width))\n",
    "# this fuction is use for converting color image to Gray scale\n",
    "def grayscale(img):  \n",
    "    return cv2.cvtColor(img, cv2.COLOR_RGB2GRAY)\n",
    "\n",
    "# this function is use for finding canny edges\n",
    "def canny(img, low_threshold, high_threshold):  \n",
    "    return cv2.Canny(img, low_threshold, high_threshold)\n",
    "\n",
    "# this function is use to add blur on images\n",
    "def gaussian_blur(img, kernel_size):  \n",
    "    return cv2.GaussianBlur(img, (kernel_size, kernel_size), 0)"
   ]
  },
  {
   "cell_type": "code",
   "execution_count": 54,
   "metadata": {},
   "outputs": [],
   "source": [
    "testing_img = imageResize(img,600,600)"
   ]
  },
  {
   "cell_type": "code",
   "execution_count": 55,
   "metadata": {},
   "outputs": [
    {
     "data": {
      "text/plain": [
       "array([[192, 191, 189, ..., 208, 208, 208],\n",
       "       [193, 190, 190, ..., 207, 208, 207],\n",
       "       [194, 194, 191, ..., 205, 205, 206],\n",
       "       ...,\n",
       "       [213, 214, 212, ..., 202, 193, 186],\n",
       "       [214, 214, 214, ..., 193, 183, 180],\n",
       "       [215, 213, 213, ..., 184, 189, 194]], dtype=uint8)"
      ]
     },
     "execution_count": 55,
     "metadata": {},
     "output_type": "execute_result"
    }
   ],
   "source": [
    "grayscale(testing_img)"
   ]
  },
  {
   "cell_type": "code",
   "execution_count": 56,
   "metadata": {},
   "outputs": [],
   "source": [
    "blured_img = gaussian_blur(testing_img,5)"
   ]
  },
  {
   "cell_type": "code",
   "execution_count": 57,
   "metadata": {},
   "outputs": [],
   "source": [
    "displayImage('blured_img',blured_img)"
   ]
  },
  {
   "cell_type": "code",
   "execution_count": 58,
   "metadata": {},
   "outputs": [],
   "source": [
    "sharp_edges = canny(resized_img,0,255)"
   ]
  },
  {
   "cell_type": "code",
   "execution_count": 59,
   "metadata": {},
   "outputs": [],
   "source": [
    "displayImage(\"sharp_edges\",sharp_edges)"
   ]
  },
  {
   "cell_type": "code",
   "execution_count": 60,
   "metadata": {},
   "outputs": [],
   "source": [
    "optimise_edges = canny(blured_img, 0, 255)"
   ]
  },
  {
   "cell_type": "code",
   "execution_count": 61,
   "metadata": {},
   "outputs": [],
   "source": [
    "displayImage(\"optimise_edges\", optimise_edges)"
   ]
  },
  {
   "cell_type": "markdown",
   "metadata": {},
   "source": [
    "## How to load video from  a webcam "
   ]
  },
  {
   "cell_type": "code",
   "execution_count": 63,
   "metadata": {},
   "outputs": [],
   "source": [
    "capture =cv2.VideoCapture(0)\n",
    "# here zero means internal webcam\n",
    "# if you have desktop or external you should use cve.VideoCapture(1)\n",
    "\n",
    "while True:\n",
    "    \n",
    "    status, frame = capture.read()\n",
    "    \n",
    "    cv2.imshow(\"Web camp working\",frame)\n",
    "    \n",
    "    key = cv2.waitKey(4)\n",
    "    \n",
    "    # here key == 27 means esc key \n",
    "    if key == 27:\n",
    "        break\n",
    "        \n",
    "capture.release()\n",
    "cv2.destroyAllWindows()"
   ]
  }
 ],
 "metadata": {
  "kernelspec": {
   "display_name": "Python 3",
   "language": "python",
   "name": "python3"
  },
  "language_info": {
   "codemirror_mode": {
    "name": "ipython",
    "version": 3
   },
   "file_extension": ".py",
   "mimetype": "text/x-python",
   "name": "python",
   "nbconvert_exporter": "python",
   "pygments_lexer": "ipython3",
   "version": "3.5.2"
  }
 },
 "nbformat": 4,
 "nbformat_minor": 2
}
